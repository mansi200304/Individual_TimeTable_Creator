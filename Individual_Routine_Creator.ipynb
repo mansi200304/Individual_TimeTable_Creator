{
  "nbformat": 4,
  "nbformat_minor": 0,
  "metadata": {
    "colab": {
      "provenance": []
    },
    "kernelspec": {
      "name": "python3",
      "display_name": "Python 3"
    },
    "language_info": {
      "name": "python"
    }
  },
  "cells": [
    {
      "cell_type": "markdown",
      "source": [
        "**Note: This is a very simple implementation with no Error/Exception Handling.**\n",
        "\n",
        "**You need to upload the orignal excel file sent in our mail with the orignal name.**\n",
        "\n",
        "**Ctrl+F9 to execute code after that.**\n",
        "\n",
        "**You will need to input your Core Section and Elective Sections(From the printed list).**\n",
        "\n",
        "**Your Desired output file will be on the files tab named: Final_Routine.xlsx**"
      ],
      "metadata": {
        "id": "uh8dRLl5cWNy"
      }
    },
    {
      "cell_type": "markdown",
      "source": [
        "#Importing Libs"
      ],
      "metadata": {
        "id": "seftwMVJbwZs"
      }
    },
    {
      "cell_type": "code",
      "execution_count": null,
      "metadata": {
        "colab": {
          "base_uri": "https://localhost:8080/"
        },
        "id": "tK49qpvCA-34",
        "outputId": "a276996f-2172-4564-c75b-f1bafeff5ffc"
      },
      "outputs": [
        {
          "output_type": "stream",
          "name": "stdout",
          "text": [
            "Collecting XlsxWriter\n",
            "  Downloading XlsxWriter-3.2.0-py3-none-any.whl (159 kB)\n",
            "\u001b[2K     \u001b[90m━━━━━━━━━━━━━━━━━━━━━━━━━━━━━━━━━━━━━━━━\u001b[0m \u001b[32m159.9/159.9 kB\u001b[0m \u001b[31m2.8 MB/s\u001b[0m eta \u001b[36m0:00:00\u001b[0m\n",
            "\u001b[?25hInstalling collected packages: XlsxWriter\n",
            "Successfully installed XlsxWriter-3.2.0\n"
          ]
        }
      ],
      "source": [
        "import pandas as pd\n",
        "import numpy as np\n",
        "import openpyxl\n",
        "from tabulate import tabulate\n",
        "from openpyxl import Workbook\n",
        "pd.set_option('display.max_rows', 600)\n",
        "pd.set_option('display.max_columns', 50)\n",
        "!pip install XlsxWriter"
      ]
    },
    {
      "cell_type": "markdown",
      "source": [
        "#Electives Schedule\n"
      ],
      "metadata": {
        "id": "LUPYQWALmwYM"
      }
    },
    {
      "cell_type": "markdown",
      "source": [
        "##Extracting and Printing Sections"
      ],
      "metadata": {
        "id": "TKw_EO2kb2Zi"
      }
    },
    {
      "cell_type": "code",
      "source": [
        "df=pd.read_excel('5th_timetable.xls',sheet_name='3rd_elective')\n",
        "df1=pd.read_excel('5th_timetable.xls',sheet_name='3rd_subject')\n",
        "columns=df.columns.tolist()\n",
        "sections=df.loc[df['DAY']=='MON','Section(DE)'].reset_index(drop=True).to_frame()"
      ],
      "metadata": {
        "id": "xTEcWitaBM2q",
        "outputId": "42b0221b-0548-49d0-c4c6-d4ac2e719855",
        "colab": {
          "base_uri": "https://localhost:8080/",
          "height": 356
        }
      },
      "execution_count": null,
      "outputs": [
        {
          "output_type": "error",
          "ename": "FileNotFoundError",
          "evalue": "[Errno 2] No such file or directory: '5th_timetable.xls'",
          "traceback": [
            "\u001b[0;31m---------------------------------------------------------------------------\u001b[0m",
            "\u001b[0;31mFileNotFoundError\u001b[0m                         Traceback (most recent call last)",
            "\u001b[0;32m<ipython-input-3-0d77d3952e81>\u001b[0m in \u001b[0;36m<cell line: 1>\u001b[0;34m()\u001b[0m\n\u001b[0;32m----> 1\u001b[0;31m \u001b[0mdf\u001b[0m\u001b[0;34m=\u001b[0m\u001b[0mpd\u001b[0m\u001b[0;34m.\u001b[0m\u001b[0mread_excel\u001b[0m\u001b[0;34m(\u001b[0m\u001b[0;34m'5th_timetable.xls'\u001b[0m\u001b[0;34m,\u001b[0m\u001b[0msheet_name\u001b[0m\u001b[0;34m=\u001b[0m\u001b[0;34m'3rd_elective'\u001b[0m\u001b[0;34m)\u001b[0m\u001b[0;34m\u001b[0m\u001b[0;34m\u001b[0m\u001b[0m\n\u001b[0m\u001b[1;32m      2\u001b[0m \u001b[0mdf1\u001b[0m\u001b[0;34m=\u001b[0m\u001b[0mpd\u001b[0m\u001b[0;34m.\u001b[0m\u001b[0mread_excel\u001b[0m\u001b[0;34m(\u001b[0m\u001b[0;34m'5th_timetable.xls'\u001b[0m\u001b[0;34m,\u001b[0m\u001b[0msheet_name\u001b[0m\u001b[0;34m=\u001b[0m\u001b[0;34m'3rd_subject'\u001b[0m\u001b[0;34m)\u001b[0m\u001b[0;34m\u001b[0m\u001b[0;34m\u001b[0m\u001b[0m\n\u001b[1;32m      3\u001b[0m \u001b[0mcolumns\u001b[0m\u001b[0;34m=\u001b[0m\u001b[0mdf\u001b[0m\u001b[0;34m.\u001b[0m\u001b[0mcolumns\u001b[0m\u001b[0;34m.\u001b[0m\u001b[0mtolist\u001b[0m\u001b[0;34m(\u001b[0m\u001b[0;34m)\u001b[0m\u001b[0;34m\u001b[0m\u001b[0;34m\u001b[0m\u001b[0m\n\u001b[1;32m      4\u001b[0m \u001b[0msections\u001b[0m\u001b[0;34m=\u001b[0m\u001b[0mdf\u001b[0m\u001b[0;34m.\u001b[0m\u001b[0mloc\u001b[0m\u001b[0;34m[\u001b[0m\u001b[0mdf\u001b[0m\u001b[0;34m[\u001b[0m\u001b[0;34m'DAY'\u001b[0m\u001b[0;34m]\u001b[0m\u001b[0;34m==\u001b[0m\u001b[0;34m'MON'\u001b[0m\u001b[0;34m,\u001b[0m\u001b[0;34m'Section(DE)'\u001b[0m\u001b[0;34m]\u001b[0m\u001b[0;34m.\u001b[0m\u001b[0mreset_index\u001b[0m\u001b[0;34m(\u001b[0m\u001b[0mdrop\u001b[0m\u001b[0;34m=\u001b[0m\u001b[0;32mTrue\u001b[0m\u001b[0;34m)\u001b[0m\u001b[0;34m.\u001b[0m\u001b[0mto_frame\u001b[0m\u001b[0;34m(\u001b[0m\u001b[0;34m)\u001b[0m\u001b[0;34m\u001b[0m\u001b[0;34m\u001b[0m\u001b[0m\n",
            "\u001b[0;32m/usr/local/lib/python3.10/dist-packages/pandas/io/excel/_base.py\u001b[0m in \u001b[0;36mread_excel\u001b[0;34m(io, sheet_name, header, names, index_col, usecols, dtype, engine, converters, true_values, false_values, skiprows, nrows, na_values, keep_default_na, na_filter, verbose, parse_dates, date_parser, date_format, thousands, decimal, comment, skipfooter, storage_options, dtype_backend)\u001b[0m\n\u001b[1;32m    476\u001b[0m     \u001b[0;32mif\u001b[0m \u001b[0;32mnot\u001b[0m \u001b[0misinstance\u001b[0m\u001b[0;34m(\u001b[0m\u001b[0mio\u001b[0m\u001b[0;34m,\u001b[0m \u001b[0mExcelFile\u001b[0m\u001b[0;34m)\u001b[0m\u001b[0;34m:\u001b[0m\u001b[0;34m\u001b[0m\u001b[0;34m\u001b[0m\u001b[0m\n\u001b[1;32m    477\u001b[0m         \u001b[0mshould_close\u001b[0m \u001b[0;34m=\u001b[0m \u001b[0;32mTrue\u001b[0m\u001b[0;34m\u001b[0m\u001b[0;34m\u001b[0m\u001b[0m\n\u001b[0;32m--> 478\u001b[0;31m         \u001b[0mio\u001b[0m \u001b[0;34m=\u001b[0m \u001b[0mExcelFile\u001b[0m\u001b[0;34m(\u001b[0m\u001b[0mio\u001b[0m\u001b[0;34m,\u001b[0m \u001b[0mstorage_options\u001b[0m\u001b[0;34m=\u001b[0m\u001b[0mstorage_options\u001b[0m\u001b[0;34m,\u001b[0m \u001b[0mengine\u001b[0m\u001b[0;34m=\u001b[0m\u001b[0mengine\u001b[0m\u001b[0;34m)\u001b[0m\u001b[0;34m\u001b[0m\u001b[0;34m\u001b[0m\u001b[0m\n\u001b[0m\u001b[1;32m    479\u001b[0m     \u001b[0;32melif\u001b[0m \u001b[0mengine\u001b[0m \u001b[0;32mand\u001b[0m \u001b[0mengine\u001b[0m \u001b[0;34m!=\u001b[0m \u001b[0mio\u001b[0m\u001b[0;34m.\u001b[0m\u001b[0mengine\u001b[0m\u001b[0;34m:\u001b[0m\u001b[0;34m\u001b[0m\u001b[0;34m\u001b[0m\u001b[0m\n\u001b[1;32m    480\u001b[0m         raise ValueError(\n",
            "\u001b[0;32m/usr/local/lib/python3.10/dist-packages/pandas/io/excel/_base.py\u001b[0m in \u001b[0;36m__init__\u001b[0;34m(self, path_or_buffer, engine, storage_options)\u001b[0m\n\u001b[1;32m   1494\u001b[0m                 \u001b[0mext\u001b[0m \u001b[0;34m=\u001b[0m \u001b[0;34m\"xls\"\u001b[0m\u001b[0;34m\u001b[0m\u001b[0;34m\u001b[0m\u001b[0m\n\u001b[1;32m   1495\u001b[0m             \u001b[0;32melse\u001b[0m\u001b[0;34m:\u001b[0m\u001b[0;34m\u001b[0m\u001b[0;34m\u001b[0m\u001b[0m\n\u001b[0;32m-> 1496\u001b[0;31m                 ext = inspect_excel_format(\n\u001b[0m\u001b[1;32m   1497\u001b[0m                     \u001b[0mcontent_or_path\u001b[0m\u001b[0;34m=\u001b[0m\u001b[0mpath_or_buffer\u001b[0m\u001b[0;34m,\u001b[0m \u001b[0mstorage_options\u001b[0m\u001b[0;34m=\u001b[0m\u001b[0mstorage_options\u001b[0m\u001b[0;34m\u001b[0m\u001b[0;34m\u001b[0m\u001b[0m\n\u001b[1;32m   1498\u001b[0m                 )\n",
            "\u001b[0;32m/usr/local/lib/python3.10/dist-packages/pandas/io/excel/_base.py\u001b[0m in \u001b[0;36minspect_excel_format\u001b[0;34m(content_or_path, storage_options)\u001b[0m\n\u001b[1;32m   1369\u001b[0m         \u001b[0mcontent_or_path\u001b[0m \u001b[0;34m=\u001b[0m \u001b[0mBytesIO\u001b[0m\u001b[0;34m(\u001b[0m\u001b[0mcontent_or_path\u001b[0m\u001b[0;34m)\u001b[0m\u001b[0;34m\u001b[0m\u001b[0;34m\u001b[0m\u001b[0m\n\u001b[1;32m   1370\u001b[0m \u001b[0;34m\u001b[0m\u001b[0m\n\u001b[0;32m-> 1371\u001b[0;31m     with get_handle(\n\u001b[0m\u001b[1;32m   1372\u001b[0m         \u001b[0mcontent_or_path\u001b[0m\u001b[0;34m,\u001b[0m \u001b[0;34m\"rb\"\u001b[0m\u001b[0;34m,\u001b[0m \u001b[0mstorage_options\u001b[0m\u001b[0;34m=\u001b[0m\u001b[0mstorage_options\u001b[0m\u001b[0;34m,\u001b[0m \u001b[0mis_text\u001b[0m\u001b[0;34m=\u001b[0m\u001b[0;32mFalse\u001b[0m\u001b[0;34m\u001b[0m\u001b[0;34m\u001b[0m\u001b[0m\n\u001b[1;32m   1373\u001b[0m     ) as handle:\n",
            "\u001b[0;32m/usr/local/lib/python3.10/dist-packages/pandas/io/common.py\u001b[0m in \u001b[0;36mget_handle\u001b[0;34m(path_or_buf, mode, encoding, compression, memory_map, is_text, errors, storage_options)\u001b[0m\n\u001b[1;32m    866\u001b[0m         \u001b[0;32melse\u001b[0m\u001b[0;34m:\u001b[0m\u001b[0;34m\u001b[0m\u001b[0;34m\u001b[0m\u001b[0m\n\u001b[1;32m    867\u001b[0m             \u001b[0;31m# Binary mode\u001b[0m\u001b[0;34m\u001b[0m\u001b[0;34m\u001b[0m\u001b[0m\n\u001b[0;32m--> 868\u001b[0;31m             \u001b[0mhandle\u001b[0m \u001b[0;34m=\u001b[0m \u001b[0mopen\u001b[0m\u001b[0;34m(\u001b[0m\u001b[0mhandle\u001b[0m\u001b[0;34m,\u001b[0m \u001b[0mioargs\u001b[0m\u001b[0;34m.\u001b[0m\u001b[0mmode\u001b[0m\u001b[0;34m)\u001b[0m\u001b[0;34m\u001b[0m\u001b[0;34m\u001b[0m\u001b[0m\n\u001b[0m\u001b[1;32m    869\u001b[0m         \u001b[0mhandles\u001b[0m\u001b[0;34m.\u001b[0m\u001b[0mappend\u001b[0m\u001b[0;34m(\u001b[0m\u001b[0mhandle\u001b[0m\u001b[0;34m)\u001b[0m\u001b[0;34m\u001b[0m\u001b[0;34m\u001b[0m\u001b[0m\n\u001b[1;32m    870\u001b[0m \u001b[0;34m\u001b[0m\u001b[0m\n",
            "\u001b[0;31mFileNotFoundError\u001b[0m: [Errno 2] No such file or directory: '5th_timetable.xls'"
          ]
        }
      ]
    },
    {
      "cell_type": "code",
      "source": [
        "df1=df1[['CSE','HPC']]\n",
        "drop=set()\n",
        "for index, row in df1.iterrows():\n",
        "  if row.isnull().any():\n",
        "    drop.add(index+1)\n",
        "df1=df1.drop(drop)\n",
        "df1=df1.dropna().reset_index(drop=True)\n",
        "df1=df1.drop(df1.index[:47]).reset_index(drop=True)\n",
        "df1.rename(columns={'CSE':'Section Name','HPC':'Teacher Name'},inplace=True)\n",
        "header=['Section Num']+df1.columns.to_list()\n",
        "print(tabulate(df1, headers=header,tablefmt='pipe'))"
      ],
      "metadata": {
        "colab": {
          "base_uri": "https://localhost:8080/",
          "height": 211
        },
        "id": "QwEJE6JeDu6v",
        "outputId": "1a86efc1-2d36-4da4-a165-602c36aa2f91"
      },
      "execution_count": null,
      "outputs": [
        {
          "output_type": "error",
          "ename": "NameError",
          "evalue": "name 'df1' is not defined",
          "traceback": [
            "\u001b[0;31m---------------------------------------------------------------------------\u001b[0m",
            "\u001b[0;31mNameError\u001b[0m                                 Traceback (most recent call last)",
            "\u001b[0;32m<ipython-input-4-ec85ec03c268>\u001b[0m in \u001b[0;36m<cell line: 1>\u001b[0;34m()\u001b[0m\n\u001b[0;32m----> 1\u001b[0;31m \u001b[0mdf1\u001b[0m\u001b[0;34m=\u001b[0m\u001b[0mdf1\u001b[0m\u001b[0;34m[\u001b[0m\u001b[0;34m[\u001b[0m\u001b[0;34m'CSE'\u001b[0m\u001b[0;34m,\u001b[0m\u001b[0;34m'HPC'\u001b[0m\u001b[0;34m]\u001b[0m\u001b[0;34m]\u001b[0m\u001b[0;34m\u001b[0m\u001b[0;34m\u001b[0m\u001b[0m\n\u001b[0m\u001b[1;32m      2\u001b[0m \u001b[0mdrop\u001b[0m\u001b[0;34m=\u001b[0m\u001b[0mset\u001b[0m\u001b[0;34m(\u001b[0m\u001b[0;34m)\u001b[0m\u001b[0;34m\u001b[0m\u001b[0;34m\u001b[0m\u001b[0m\n\u001b[1;32m      3\u001b[0m \u001b[0;32mfor\u001b[0m \u001b[0mindex\u001b[0m\u001b[0;34m,\u001b[0m \u001b[0mrow\u001b[0m \u001b[0;32min\u001b[0m \u001b[0mdf1\u001b[0m\u001b[0;34m.\u001b[0m\u001b[0miterrows\u001b[0m\u001b[0;34m(\u001b[0m\u001b[0;34m)\u001b[0m\u001b[0;34m:\u001b[0m\u001b[0;34m\u001b[0m\u001b[0;34m\u001b[0m\u001b[0m\n\u001b[1;32m      4\u001b[0m   \u001b[0;32mif\u001b[0m \u001b[0mrow\u001b[0m\u001b[0;34m.\u001b[0m\u001b[0misnull\u001b[0m\u001b[0;34m(\u001b[0m\u001b[0;34m)\u001b[0m\u001b[0;34m.\u001b[0m\u001b[0many\u001b[0m\u001b[0;34m(\u001b[0m\u001b[0;34m)\u001b[0m\u001b[0;34m:\u001b[0m\u001b[0;34m\u001b[0m\u001b[0;34m\u001b[0m\u001b[0m\n\u001b[1;32m      5\u001b[0m     \u001b[0mdrop\u001b[0m\u001b[0;34m.\u001b[0m\u001b[0madd\u001b[0m\u001b[0;34m(\u001b[0m\u001b[0mindex\u001b[0m\u001b[0;34m+\u001b[0m\u001b[0;36m1\u001b[0m\u001b[0;34m)\u001b[0m\u001b[0;34m\u001b[0m\u001b[0;34m\u001b[0m\u001b[0m\n",
            "\u001b[0;31mNameError\u001b[0m: name 'df1' is not defined"
          ]
        }
      ]
    },
    {
      "cell_type": "markdown",
      "source": [
        "##Taking Input"
      ],
      "metadata": {
        "id": "edb7d7H6cKrU"
      }
    },
    {
      "cell_type": "code",
      "source": [
        "mysec=[]\n",
        "mysec.append(input(\"Enter Elective Section Num 1: \"))\n",
        "mysec.append(input(\"Enter Elective Section Num 2: \"))\n",
        "mysec=[int(i) for i in mysec]\n",
        "mysec=[sections.iloc[i,0] for i in mysec]\n",
        "print(f\"Your Selected Sections: {mysec}\")"
      ],
      "metadata": {
        "id": "9dnvNaJKBzEq"
      },
      "execution_count": null,
      "outputs": []
    },
    {
      "cell_type": "markdown",
      "source": [
        "##Forming New Routine"
      ],
      "metadata": {
        "id": "HisVrOescPwp"
      }
    },
    {
      "cell_type": "code",
      "source": [
        "elective=pd.DataFrame(columns=columns)\n",
        "for i in mysec:\n",
        "  for j in df['Section(DE)']:\n",
        "    if i==j:\n",
        "      elective=elective.append(df.loc[df['Section(DE)']==j],ignore_index=True)"
      ],
      "metadata": {
        "id": "r4CPMhLoQJTj",
        "colab": {
          "base_uri": "https://localhost:8080/"
        },
        "outputId": "dcaa9115-81d9-403a-f8a3-a14d6971b940"
      },
      "execution_count": null,
      "outputs": [
        {
          "output_type": "stream",
          "name": "stderr",
          "text": [
            "<ipython-input-5-f4f13f1df2ad>:5: FutureWarning: The frame.append method is deprecated and will be removed from pandas in a future version. Use pandas.concat instead.\n",
            "  elective=elective.append(df.loc[df['Section(DE)']==j],ignore_index=True)\n"
          ]
        }
      ]
    },
    {
      "cell_type": "code",
      "source": [
        "subset=['DAY','Section(DE)','ROOM1','ROOM2','ROOM3','ROOM4','ROOM5','ROOM6']\n",
        "elective=elective.drop_duplicates(subset=subset)\n",
        "elective = elective[~((elective.iloc[:,2:] == 'X') | (elective.iloc[:,2:] == '---')).all(axis=1)]\n",
        "copy=elective.copy()\n",
        "elective.insert(loc=2, column='ROOM-1',value='---')\n",
        "elective.insert(loc=4, column='ROOM0',value='---')\n",
        "rename={f'ROOM{i}':f'ROOM{j}' for i,j in zip(range(-1,7),range(1,9))}\n",
        "elective.rename(columns=rename,inplace=True)\n",
        "print(tabulate(elective,headers=elective.columns))"
      ],
      "metadata": {
        "id": "IHG9wKzOSKTt",
        "colab": {
          "base_uri": "https://localhost:8080/"
        },
        "outputId": "2c53485a-e10f-4c33-c1fd-3ee5c04049ac"
      },
      "execution_count": null,
      "outputs": [
        {
          "output_type": "stream",
          "name": "stdout",
          "text": [
            "    DAY    Section(DE)    ROOM1    8-9    ROOM2    9-10    10-11    ROOM3     11-12     ROOM4     12-1      ROOM5    1-2    ROOM6    3-4     ROOM7     4-5       ROOM8    5-6\n",
            "--  -----  -------------  -------  -----  -------  ------  -------  --------  --------  --------  --------  -------  -----  -------  ------  --------  --------  -------  ------\n",
            " 0  MON    DMDW_IT-1      ---      X      ---      X       X        ---       X         A-LH-010  DMDW(DE)  ---      X      ---      X       ---       X         ---      X\n",
            " 3  THU    DMDW_IT-1      ---      X      ---      X       X        A-LH-010  DMDW(DE)  ---       X         ---      X      ---      X       ---       X         ---      X\n",
            " 4  FRI    DMDW_IT-1      ---      X      ---      X       X        ---       X         ---       X         ---      X      ---      X       A-LH-010  DMDW(DE)  ---      X\n",
            "37  TUE    BD_IT-1        ---      X      ---      X       X        B-405     BD(DE)    ---       X         ---      X      ---      X       ---       X         ---      X\n",
            "38  WED    BD_IT-1        ---      X      ---      X       X        ---       X         ---       X         ---      X      ---      X       ---       X         B-405    BD(DE)\n",
            "40  FRI    BD_IT-1        ---      X      ---      X       X        ---       X         ---       X         ---      X      B-405    BD(DE)  ---       X         ---      X\n"
          ]
        }
      ]
    },
    {
      "cell_type": "markdown",
      "source": [
        "#Core Schedule"
      ],
      "metadata": {
        "id": "4eZzVW_mnIgo"
      }
    },
    {
      "cell_type": "markdown",
      "source": [
        "##Extracting Sections"
      ],
      "metadata": {
        "id": "mYcSa_DhnOLD"
      }
    },
    {
      "cell_type": "code",
      "source": [
        "df=pd.read_excel('5th_timetable.xls',sheet_name='3rd_section')\n",
        "columns=df.columns.tolist()\n",
        "core=[]\n",
        "for item in df['Section']:\n",
        "  if item not in core:\n",
        "    core.append(item)\n",
        "core=['CSE1']+core[3:]"
      ],
      "metadata": {
        "id": "-A01n2WEnbE9"
      },
      "execution_count": null,
      "outputs": []
    },
    {
      "cell_type": "code",
      "source": [
        "print(\"Section Number   Section Name\")\n",
        "for index,value in enumerate(core):\n",
        "  print(index,\"\\t\\t\",value)"
      ],
      "metadata": {
        "id": "9uJVrqOwsHxm",
        "colab": {
          "base_uri": "https://localhost:8080/"
        },
        "outputId": "c56aa16e-778e-4a13-e666-ef3aa9c105df"
      },
      "execution_count": null,
      "outputs": [
        {
          "output_type": "stream",
          "name": "stdout",
          "text": [
            "Section Number   Section Name\n",
            "0 \t\t CSE1\n",
            "1 \t\t CSE-2\n",
            "2 \t\t CSE-3\n",
            "3 \t\t CSE-4\n",
            "4 \t\t CSE-5\n",
            "5 \t\t CSE-6\n",
            "6 \t\t CSE-7\n",
            "7 \t\t CSE-8\n",
            "8 \t\t CSE-9\n",
            "9 \t\t CSE-10\n",
            "10 \t\t CSE-11\n",
            "11 \t\t CSE-12\n",
            "12 \t\t CSE-13\n",
            "13 \t\t CSE-14\n",
            "14 \t\t CSE-15\n",
            "15 \t\t CSE-16\n",
            "16 \t\t CSE-17\n",
            "17 \t\t CSE-18\n",
            "18 \t\t CSE-19\n",
            "19 \t\t CSE-20\n",
            "20 \t\t CSE-21\n",
            "21 \t\t CSE-22\n",
            "22 \t\t CSE-23\n",
            "23 \t\t CSE-24\n",
            "24 \t\t CSE-25\n",
            "25 \t\t CSE-26\n",
            "26 \t\t CSE-27\n",
            "27 \t\t CSE-28\n",
            "28 \t\t CSE-29\n",
            "29 \t\t CSE-30\n",
            "30 \t\t CSE-31\n",
            "31 \t\t CSE-32\n",
            "32 \t\t CSE-33\n",
            "33 \t\t CSE-34\n",
            "34 \t\t CSE-35\n",
            "35 \t\t CSE-36\n",
            "36 \t\t CSE-37\n",
            "37 \t\t CSE-38\n",
            "38 \t\t CSE-39\n",
            "39 \t\t IT-1\n",
            "40 \t\t IT-2\n",
            "41 \t\t IT-3\n",
            "42 \t\t IT-4\n",
            "43 \t\t CSCE-1\n",
            "44 \t\t CSCE-2\n",
            "45 \t\t CSSE-1\n",
            "46 \t\t CSSE-2\n"
          ]
        }
      ]
    },
    {
      "cell_type": "markdown",
      "source": [
        "##Taking Input"
      ],
      "metadata": {
        "id": "oZkbb5A8nWc8"
      }
    },
    {
      "cell_type": "code",
      "source": [
        "sect = input(\"Enter Core Section Number: \")\n",
        "sect=core[int(sect)]\n",
        "print(f\"Your Selected Section: {sect}\")"
      ],
      "metadata": {
        "id": "Sv9s7Bk2r5l3",
        "colab": {
          "base_uri": "https://localhost:8080/"
        },
        "outputId": "9843f8b0-07f8-4ae2-c266-d1acc124bfd3"
      },
      "execution_count": null,
      "outputs": [
        {
          "output_type": "stream",
          "name": "stdout",
          "text": [
            "Enter Core Section Number: 39\n",
            "Your Selected Section: IT-1\n"
          ]
        }
      ]
    },
    {
      "cell_type": "markdown",
      "source": [
        "#Forming Table"
      ],
      "metadata": {
        "id": "9vSUjoADnawz"
      }
    },
    {
      "cell_type": "code",
      "source": [
        "core=pd.DataFrame(columns=columns)\n",
        "for j in df['Section']:\n",
        "  if sect==j:\n",
        "    core=core.append(df.loc[df['Section']==j],ignore_index=True)\n",
        "core=core.drop_duplicates()\n",
        "counter=10\n",
        "for i in range(7,13,2):\n",
        "  core.insert(loc=i, column=f'ROOM{counter}',value='---')\n",
        "  counter+=1\n",
        "core.insert(loc=core.shape[1]-1,column=f'ROOM{counter}',value='---')\n",
        "rename={f'ROOM{i}':f'ROOM{j}' for i,j in zip(range(3,5),range(6,8))}\n",
        "core.rename(columns=rename,inplace=True)\n",
        "rename={f'ROOM{i}':f'ROOM{j}' for i,j in zip(range(10,13),range(3,6))}\n",
        "core.rename(columns=rename,inplace=True)\n",
        "core.rename(columns={'ROOM13':'ROOM8'},inplace=True)\n",
        "core.drop(['2-3'],axis=1,inplace=True)\n",
        "core.replace(['X','---'],pd.NA,inplace=True)"
      ],
      "metadata": {
        "id": "xfqOjsAstJ5k",
        "colab": {
          "base_uri": "https://localhost:8080/"
        },
        "outputId": "40560ed6-1c72-4915-8081-886e4bd67310"
      },
      "execution_count": null,
      "outputs": [
        {
          "output_type": "stream",
          "name": "stderr",
          "text": [
            "<ipython-input-11-93f6f431fb3b>:4: FutureWarning: The frame.append method is deprecated and will be removed from pandas in a future version. Use pandas.concat instead.\n",
            "  core=core.append(df.loc[df['Section']==j],ignore_index=True)\n"
          ]
        }
      ]
    },
    {
      "cell_type": "markdown",
      "source": [
        "##Standarisation of Tables"
      ],
      "metadata": {
        "id": "F_01WWNgnguv"
      }
    },
    {
      "cell_type": "code",
      "source": [
        "elective.rename(columns={'Section(DE)':'Section'},inplace=True)\n",
        "print(len(core['Section'][:]))\n",
        "elective['Section'][:]=core['Section'][:]\n",
        "elective.replace(['X','---'],pd.NA,inplace=True)\n",
        "elective=elective.reset_index(drop=True)\n",
        "print(tabulate(elective,headers=elective.columns))"
      ],
      "metadata": {
        "id": "VrzgLnAM5vUG",
        "colab": {
          "base_uri": "https://localhost:8080/"
        },
        "outputId": "5ecbba8e-deb9-4f04-ab8f-53c9fe753ddf"
      },
      "execution_count": null,
      "outputs": [
        {
          "output_type": "stream",
          "name": "stdout",
          "text": [
            "6\n",
            "    DAY    Section    ROOM1    8-9    ROOM2    9-10    10-11    ROOM3     11-12     ROOM4     12-1      ROOM5    1-2    ROOM6    3-4     ROOM7     4-5       ROOM8    5-6\n",
            "--  -----  ---------  -------  -----  -------  ------  -------  --------  --------  --------  --------  -------  -----  -------  ------  --------  --------  -------  ------\n",
            " 0  MON    IT-1       <NA>     <NA>   <NA>     <NA>    <NA>     <NA>      <NA>      A-LH-010  DMDW(DE)  <NA>     <NA>   <NA>     <NA>    <NA>      <NA>      <NA>     <NA>\n",
            " 1  THU    IT-1       <NA>     <NA>   <NA>     <NA>    <NA>     A-LH-010  DMDW(DE)  <NA>      <NA>      <NA>     <NA>   <NA>     <NA>    <NA>      <NA>      <NA>     <NA>\n",
            " 2  FRI    IT-1       <NA>     <NA>   <NA>     <NA>    <NA>     <NA>      <NA>      <NA>      <NA>      <NA>     <NA>   <NA>     <NA>    A-LH-010  DMDW(DE)  <NA>     <NA>\n",
            " 3  TUE    IT-1       <NA>     <NA>   <NA>     <NA>    <NA>     B-405     BD(DE)    <NA>      <NA>      <NA>     <NA>   <NA>     <NA>    <NA>      <NA>      <NA>     <NA>\n",
            " 4  WED    IT-1       <NA>     <NA>   <NA>     <NA>    <NA>     <NA>      <NA>      <NA>      <NA>      <NA>     <NA>   <NA>     <NA>    <NA>      <NA>      B-405    BD(DE)\n",
            " 5  FRI    IT-1       <NA>     <NA>   <NA>     <NA>    <NA>     <NA>      <NA>      <NA>      <NA>      <NA>     <NA>   B-405    BD(DE)  <NA>      <NA>      <NA>     <NA>\n"
          ]
        }
      ]
    },
    {
      "cell_type": "markdown",
      "source": [
        "#Merging Both DataFrames"
      ],
      "metadata": {
        "id": "UxQEc-Psnr9f"
      }
    },
    {
      "cell_type": "code",
      "source": [
        "time=['11-12','12-1','1-2','3-4','4-5','5-6']\n",
        "ind=0\n",
        "counter = -1\n",
        "for i,val in enumerate(time):\n",
        "  for j in elective[val]:\n",
        "    counter+=1\n",
        "    if not pd.isna(j):\n",
        "      # print(\"WOW: \",j,\"LOL: \",val,\"SHOOT: \",elective.iloc[counter,0])\n",
        "      ind=core.index[core['DAY']==elective.iloc[counter,0]].item()\n",
        "      core.loc[ind,val]=j#subject are put into correct place\n",
        "      ind1=core.columns.to_list().index(val)-1\n",
        "      room=core.columns[ind1]\n",
        "      core.loc[ind,room]=elective.loc[counter,room]#Room No is slotted\n",
        "  counter=-1"
      ],
      "metadata": {
        "id": "VOVIpRJaLdAy"
      },
      "execution_count": null,
      "outputs": []
    },
    {
      "cell_type": "code",
      "source": [
        "replace={f'ROOM{i}':'---' for i in range(1,9)}\n",
        "core=core.fillna(replace)\n",
        "time=['8-9','9-10','10-11','11-12','12-1','1-2','3-4','4-5','5-6']\n",
        "counter = -1\n",
        "for i,val in enumerate(time):\n",
        "  for j in core[val]:\n",
        "    counter+=1\n",
        "    if pd.isna(j):\n",
        "      core.loc[counter,val]='X'\n",
        "  counter=-1\n",
        "print(tabulate(core,headers=core.columns))"
      ],
      "metadata": {
        "id": "vlJjcHr0z9hZ",
        "colab": {
          "base_uri": "https://localhost:8080/"
        },
        "outputId": "fc02013c-030c-4bec-dec5-18398a317513"
      },
      "execution_count": null,
      "outputs": [
        {
          "output_type": "stream",
          "name": "stdout",
          "text": [
            "    DAY    Section    ROOM1     8-9    ROOM2     9-10    10-11    ROOM3     11-12     ROOM4     12-1      ROOM5    1-2    ROOM6     3-4     ROOM7     4-5       ROOM8    5-6\n",
            "--  -----  ---------  --------  -----  --------  ------  -------  --------  --------  --------  --------  -------  -----  --------  ------  --------  --------  -------  ------\n",
            " 0  MON    IT-1       A-LH-109  IOT    A-DL-106  CN(L)   CN(L)    ---       X         A-LH-010  DMDW(DE)  ---      X      A-LH-105  DAA     A-LH-105  CN        ---      X\n",
            " 1  TUE    IT-1       A-LH-109  CN     A-LH-109  SE      DAA      B-405     BD(DE)    ---       X         ---      X      A-LH-104  IOT     A-LH-104  X         ---      X\n",
            " 2  WED    IT-1       A-LH-010  SE     A-DL-106  DAA(L)  DAA(L)   ---       X         ---       X         ---      X      ---       X       ---       X         B-405    BD(DE)\n",
            " 3  THU    IT-1       ---       X      ---       X       X        A-LH-010  DMDW(DE)  ---       X         ---      X      ---       X       ---       X         ---      X\n",
            " 4  FRI    IT-1       A-LH-110  IOT    A-LH-110  DAA     SE       ---       X         ---       X         ---      X      B-405     BD(DE)  A-LH-010  DMDW(DE)  ---      X\n",
            " 5  SAT    IT-1       ---       X      ---       X       X        ---       X         ---       X         ---      X      B-406     CN      B-406     SE        ---      X\n"
          ]
        }
      ]
    },
    {
      "cell_type": "markdown",
      "source": [
        "#Conversion to Excel\n"
      ],
      "metadata": {
        "id": "IkjfwM8TcGOD"
      }
    },
    {
      "cell_type": "code",
      "source": [
        "# file_name='Elective_Routine.xlsx'\n",
        "# core.to_excel(file_name, index=False)\n",
        "# print(f\"DataFrame exported to '{file_name}' successfully.\")"
      ],
      "metadata": {
        "id": "HbDpkh9qblHg"
      },
      "execution_count": null,
      "outputs": []
    },
    {
      "cell_type": "code",
      "source": [
        "with pd.ExcelWriter(f'Final_Routine_{sect}_{mysec[0]}_{mysec[1]}.xlsx', engine='xlsxwriter') as writer:\n",
        "    core.to_excel(writer, index=False, sheet_name='Sheet1')\n",
        "    workbook = writer.book\n",
        "    worksheet = writer.sheets['Sheet1']\n",
        "    cell_format = workbook.add_format({'bold': True, 'border': 2, 'bg_color': '99ccff'})\n",
        "    bold_border_format = workbook.add_format({'bold': True, 'border': 2})\n",
        "    thin_border_format = workbook.add_format({'border': 1})\n",
        "    for col_num, value in enumerate(core.columns.values):\n",
        "        worksheet.write(0, col_num, value, cell_format)\n",
        "    num_rows, num_cols = core.shape\n",
        "    ranges = ['A2:B7','C2:C7','E2:E7','H2:H7','J2:J7','L2:L7','N2:N7','P2:P7','R2:R7']\n",
        "    for i in ranges:\n",
        "      worksheet.conditional_format(i, {'type': 'no_blanks', 'format': cell_format})\n",
        "    for row_num in range(1, num_rows + 1):\n",
        "        for col_num in range(num_cols):\n",
        "            cell_value = core.iat[row_num - 1, col_num]\n",
        "            if cell_value in ['X']:\n",
        "                worksheet.write(row_num, col_num, cell_value, thin_border_format)\n",
        "            if cell_value not in ['X']:\n",
        "                worksheet.write(row_num, col_num, cell_value, bold_border_format)\n",
        "print(f\"Excel file 'Final_Routine_{sect}_{mysec[0]}_{mysec[1]}.xlsx' has been created.\")"
      ],
      "metadata": {
        "id": "sh_KuDThoHxz",
        "colab": {
          "base_uri": "https://localhost:8080/"
        },
        "outputId": "5ba4f7b6-6efc-427c-a93c-87c2d39bff8f"
      },
      "execution_count": null,
      "outputs": [
        {
          "output_type": "stream",
          "name": "stdout",
          "text": [
            "Excel file 'Final_Routine_IT-1_DMDW_IT-1_BD_IT-1.xlsx' has been created.\n"
          ]
        }
      ]
    }
  ]
}